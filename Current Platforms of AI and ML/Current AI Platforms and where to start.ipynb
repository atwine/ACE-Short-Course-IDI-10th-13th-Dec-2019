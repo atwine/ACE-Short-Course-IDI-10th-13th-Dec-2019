{
 "cells": [
  {
   "cell_type": "markdown",
   "metadata": {},
   "source": [
    "# Machine Learning Platforms\n",
    "\n",
    "by `Atwine Mugume Twinamatsiko`  [Github](https://github.com/atwine), [LinkedIn](https://www.linkedin.com/in/mugume-twinamatsiko-atwine-976ab12b/)\n",
    "\n",
    "<img src= 'plt.jpg'/>\n",
    "\n",
    "#### Normally in order to practice you need to have a powerful computer:\n",
    "\n",
    "- Five (5) cores Plus.\n",
    "- 4Gb+ of RAM Plus.\n",
    "- 500+ plus of HDD Space.\n",
    "\n",
    "These specifications can help you get started and work on some projects in Machine learning. However if you are handling algorithms that are data hungry like neural networks you will need some help in dealing with processing power.\n",
    "\n",
    "#### For Heavy computing you will need:\n",
    "\n",
    "- GPU - Graphical Processing Units.\n",
    "- TPU - Tensor Processing Units.\n",
    "\n",
    "Now these are quite expensive to buy on the market for everyone.\n",
    "\n",
    "#### At the end of this tutorial you will learn the following:\n",
    "\n",
    "- Learning Platforms for Machine Learning and AI.\n",
    "- Practicing Platforms.\n",
    "- Editors for your code.\n",
    "- Simple intro to Keras.\n",
    "- Simple intro to Tensorflow."
   ]
  },
  {
   "cell_type": "markdown",
   "metadata": {},
   "source": [
    "<div class=\"alert alert-block alert-success\"/>"
   ]
  },
  {
   "cell_type": "markdown",
   "metadata": {},
   "source": [
    "# Learning Platforms:\n",
    "\n",
    "I will highlight some of the platforms that you can use to get started on learning how to work through AI and Machine Learning immediately.\n",
    "\n",
    "- ### [Edx.org](https://www.edx.org/)\n",
    "\n",
    "<img src ='edx.png'/>\n",
    "\n",
    "__This platform is one of those you can work with to get started -- they offer a multitude of courses through which you can get started.__\n",
    "\n",
    "You are able to do the materials free if you don't have money and then later pay for a certificate when you have the money.\n",
    "\n",
    "Courses range from: `Proffesional DevOps to Masters online.`\n",
    "\n",
    "The choice is really up to one, and the Universitites offering are credible universities\n"
   ]
  },
  {
   "cell_type": "markdown",
   "metadata": {},
   "source": [
    "<div class=\"alert alert-block alert-success\"/>"
   ]
  },
  {
   "cell_type": "markdown",
   "metadata": {},
   "source": [
    "- ### [Data Camp](https://www.datacamp.com/)\n",
    "\n",
    "Data Camp has great resources for developing skills as a Data Scientist or Data Analyst. They have different tracks and their way of teaching is very practical. \n",
    "\n",
    "You are taught and interactive quizes are given live in the sessions.\n",
    "\n",
    "<img src = 'datacamp.png'/>"
   ]
  },
  {
   "cell_type": "markdown",
   "metadata": {},
   "source": [
    "<div class=\"alert alert-block alert-success\"/>"
   ]
  },
  {
   "cell_type": "markdown",
   "metadata": {},
   "source": [
    "- ### [Coursera](https://www.coursera.org/)\n",
    "<img src='coursera.png'/>\n",
    "\n",
    "### A great course to begin with on coursera is [Andrew Ng's Courses](https://www.google.com/url?q=https://www.coursera.org/learn/machine-learning&sa=D&ust=1574955397423000), [Deep learning](https://www.google.com/url?q=https://www.coursera.org/specializations/deep-learning&sa=D&ust=1574955397424000)"
   ]
  },
  {
   "cell_type": "markdown",
   "metadata": {},
   "source": [
    "<div class=\"alert alert-block alert-warning\"/>"
   ]
  },
  {
   "cell_type": "markdown",
   "metadata": {},
   "source": [
    "- ### [Analytics Vidya](https://www.analyticsvidhya.com/)\n",
    "\n",
    "This site is a great resource, they offere brilliant explanations on algorithms and AI with working examples.\n",
    "\n",
    "It is a site to get good practice on some of the concepts that you have learnt in this meeting.\n",
    "\n",
    "<img src='vidya.png'/>"
   ]
  },
  {
   "cell_type": "markdown",
   "metadata": {},
   "source": [
    "<div class=\"alert alert-info\"/></div>"
   ]
  },
  {
   "cell_type": "markdown",
   "metadata": {},
   "source": [
    "## [Fast AI](https://course.fast.ai/)\n",
    "\n",
    "<div class=\"alert alert-info\"/>\n",
    "The field of Machine Learning an AI is evolving so fast, there was a time R was the language to go to before python came and stope `people's hearts`. \n",
    "\n",
    "Companies have evolved and made newer models and code structures to work for them, these are normally build to help solve some of the limitations on the previous models or versions. \n",
    "\n",
    "Fastai is such a thing, it is headed by `Jeremy Howard`. They have free materials where someone can go and learn machine learning and deep learning. The material is alittle advanced but a great resource to know about.\n",
    "\n",
    "</div>\n",
    "\n",
    "<img src='fastai.png'/>\n",
    "\n",
    "\n",
    ">> ## *“PyTorch was created to overcome the gaps in Tensorflow. FastAI was built to fill gaps in tooling for PyTorch. But now we’re hitting the limits of Python, and Swift has the potential to bridge this gap”* Jeremy Howard"
   ]
  },
  {
   "cell_type": "code",
   "execution_count": 1,
   "metadata": {},
   "outputs": [
    {
     "name": "stderr",
     "output_type": "stream",
     "text": [
      "/opt/anaconda3/lib/python3.7/site-packages/IPython/core/display.py:717: UserWarning: Consider using IPython.display.IFrame instead\n",
      "  warnings.warn(\"Consider using IPython.display.IFrame instead\")\n"
     ]
    },
    {
     "data": {
      "text/html": [
       "<iframe width=\"650\" height=\"400\" src=\"https://www.youtube.com/embed/drSpCwDFwnM\" frameborder=\"0\" allow=\"accelerometer; autoplay; encrypted-media; gyroscope; picture-in-picture\" allowfullscreen></iframe>"
      ],
      "text/plain": [
       "<IPython.core.display.HTML object>"
      ]
     },
     "execution_count": 1,
     "metadata": {},
     "output_type": "execute_result"
    }
   ],
   "source": [
    "#introduction to swift for ML\n",
    "from IPython.display import HTML\n",
    "\n",
    "# Youtube\n",
    "HTML('<iframe width=\"650\" height=\"400\" src=\"https://www.youtube.com/embed/drSpCwDFwnM\" frameborder=\"0\" allow=\"accelerometer; autoplay; encrypted-media; gyroscope; picture-in-picture\" allowfullscreen></iframe>')\n"
   ]
  },
  {
   "cell_type": "markdown",
   "metadata": {},
   "source": [
    "<div class=\"alert alert-info\"/></div>"
   ]
  },
  {
   "cell_type": "markdown",
   "metadata": {},
   "source": [
    "# Practicing Platforms:\n",
    "\n",
    "These are platforms that you can access GPUs for free:\n",
    "\n",
    "\n",
    "- ### [Kaggle](https://www.kaggle.com/)\n",
    "\n",
    "<img src='kaggle.png'/>"
   ]
  },
  {
   "cell_type": "markdown",
   "metadata": {},
   "source": [
    "<div class=\"alert alert-info\"/></div>"
   ]
  },
  {
   "cell_type": "markdown",
   "metadata": {},
   "source": [
    "- ## [Zindi](https://zindi.africa/)\n",
    "\n",
    "<img src='zindi.png'/>"
   ]
  },
  {
   "cell_type": "markdown",
   "metadata": {},
   "source": [
    "<div class=\"alert alert-info\"/></div>"
   ]
  },
  {
   "cell_type": "markdown",
   "metadata": {},
   "source": [
    "- ## [Google Colab](colab.research.google.com)\n",
    "\n",
    "Here you can get:(free)\n",
    "- GPU\n",
    "- TPU\n",
    "\n",
    "<img src='colab.png'/>"
   ]
  },
  {
   "cell_type": "markdown",
   "metadata": {},
   "source": [
    "<div class=\"alert alert-info\"/></div>"
   ]
  },
  {
   "cell_type": "markdown",
   "metadata": {},
   "source": [
    "- ## [Git Hub](www.github.com)\n",
    "\n",
    "This is a platform you can use to see what people have worked on.\n",
    "\n",
    "You are able to fork what people have done and use it on your laptop or machine to practice the use of some \n",
    "techniques and other things.\n",
    "\n",
    "### In order to get this teaching material you need to get a github account so that we can move together.\n",
    "\n",
    "1- Get a github account for free\n",
    "2- Download git and install it on your machine\n",
    "3- Clone the repository like this:\n",
    "\n",
    "#### In Jupyter Notebook:\n",
    "```\n",
    "!git clone https://github.com/atwine/ACE-Short-Course-IDI-10th-13th-Dec-2019.git\n",
    "```\n",
    "\n",
    "#### On command line use this command:\n",
    "\n",
    "```\n",
    "git clone https://github.com/atwine/ACE-Short-Course-IDI-10th-13th-Dec-2019.git\n",
    "```\n",
    "\n",
    "<img src='github.png'/>"
   ]
  },
  {
   "cell_type": "markdown",
   "metadata": {},
   "source": [
    "<div class=\"alert alert-info\"/></div>"
   ]
  },
  {
   "cell_type": "markdown",
   "metadata": {},
   "source": [
    "## [My Binder](https://mybinder.org/)\n",
    "\n",
    "When you run into projects which you need to check out as an example on GitHub you need to run them.\n",
    "\n",
    "Mybinder.org is a site that helps you to temporarily run jupyter notebook for free, the sessions are meant to last only for demonstrational purposes not for long computations\n",
    "\n",
    "<img src='binder.png'/>\n",
    "\n",
    "## NB: You have a choice:\n",
    "\n",
    "1- Download this whole repository on to your computer\n",
    "\n",
    "2- Use this [address](https://mybinder.org/v2/gh/atwine/ACE-Short-Course-IDI-10th-13th-Dec-2019/master)"
   ]
  },
  {
   "cell_type": "markdown",
   "metadata": {},
   "source": [
    "<div class=\"alert alert-block alert-info\"/>\n",
    "\n",
    "# What you need to learn:-\n",
    "\n",
    "As you go through the sites there are some skills you should look out for, we are going to look at some below."
   ]
  },
  {
   "cell_type": "code",
   "execution_count": null,
   "metadata": {},
   "outputs": [],
   "source": []
  },
  {
   "cell_type": "markdown",
   "metadata": {},
   "source": [
    "\n",
    "## What you need to have to get started:-\n",
    "\n",
    "Let us look at some of the things we need to get started, now that you have a new computer what do you do?\n",
    "\n",
    "- ## [Install Python](https://www.python.org/)\n",
    "Python is a programming language that is one of the mostly used in Machine Learning and Artificial intelligence.\n",
    "\n",
    "It is fast, easy to use (the systax is simple to understand) and is open source (anyone can use it).\n",
    "\n",
    "Normally python comes installed on your pc, but there are upgrades, in case of that you need to download the latest from the python official website.\n",
    "\n",
    "<img src='python.png'/>\n",
    "\n",
    "- ### An Environment:\n",
    " In order to start coding you need an environment where you will write your code. The environments differ depending on choice. I am going to list two different ones.\n",
    " \n",
    " ### Anaconda (Python & R)\n",
    " [Link](www.anacond.org) with this environment you are able to write both Python and R code for machine learning and deep learning.\n",
    " \n",
    " <img src='anaconda.png'/>\n",
    " \n",
    " After installing this software you will be able to access Jupyter Notebook local server so that you will be able to work with RStudio all intalled in one navigator.\n",
    " \n",
    " ### R Studio\n",
    " You are able to launch R Studio from anaconda navigator (plus many other editors). With this environment you are able to work with R which is an alternative for python.\n",
    " \n",
    " <img src='rstudio.png'/>\n",
    " \n",
    " ### Anaconda Navigator\n",
    " \n",
    "  <img src='anaconda navigator.png'/>\n",
    "  \n",
    "  \n",
    "## Jupyter notebooks\n",
    "\n",
    "What problem does jupyter solve: for a newbie to this arena you can get intimidated with setting up an environment for AI and ML. In a few steps with Jupyter you can have a working server and frontend web based application to help you get started quickly!\n",
    "\n",
    "Jupyter is a free, open-source, interactive web tool known as a computational notebook, which researchers can use to combine software code, computational output, explanatory text and multimedia resources in a single document.\n",
    "\n",
    "The Jupyter notebook has two components. Users input programming code or text in rectangular cells in a front-end web page. The browser then passes that code to a back-end ‘kernel’, which runs the code and returns the results\n",
    "\n",
    "Here is a great [article on Jupyter Notebooks](https://www.analyticsvidhya.com/blog/2018/05/starters-guide-jupyter-notebook/)\n",
    "\n",
    "<img src='Jupyternotebooks.png'/>\n",
    "\n",
    "### [Interesting Jupyter Notebooks](https://github.com/jupyter/jupyter/wiki/A-gallery-of-interesting-Jupyter-Notebooks#statistics-machine-learning-and-data-science)\n",
    "\n",
    "You can also build widgets with in Jupyter Notebooks and many other things.\n",
    "\n",
    "<img src='Jupyterwidget.gif'/>"
   ]
  },
  {
   "cell_type": "markdown",
   "metadata": {},
   "source": [
    "<div class=\"alert alert-block alert-success\"/>\n"
   ]
  },
  {
   "cell_type": "markdown",
   "metadata": {},
   "source": [
    "# Microsoft Azure\n",
    "\n",
    "This is a Microsoft Platform that can also be used for Machine Learning"
   ]
  },
  {
   "cell_type": "code",
   "execution_count": 2,
   "metadata": {},
   "outputs": [
    {
     "data": {
      "text/html": [
       "<iframe width=\"650\" height=\"400\" src=\"https://www.youtube.com/embed/csFDLUYnq4w\" frameborder=\"0\" allow=\"accelerometer; autoplay; encrypted-media; gyroscope; picture-in-picture\" allowfullscreen></iframe>"
      ],
      "text/plain": [
       "<IPython.core.display.HTML object>"
      ]
     },
     "execution_count": 2,
     "metadata": {},
     "output_type": "execute_result"
    }
   ],
   "source": [
    "HTML('<iframe width=\"650\" height=\"400\" src=\"https://www.youtube.com/embed/csFDLUYnq4w\" frameborder=\"0\" allow=\"accelerometer; autoplay; encrypted-media; gyroscope; picture-in-picture\" allowfullscreen></iframe>')\n"
   ]
  },
  {
   "cell_type": "markdown",
   "metadata": {},
   "source": [
    "# Amazon Sagemaker"
   ]
  },
  {
   "cell_type": "code",
   "execution_count": 3,
   "metadata": {
    "scrolled": false
   },
   "outputs": [
    {
     "data": {
      "text/html": [
       "<iframe width=\"650\" height=\"400\" src=\"https://www.youtube.com/embed/R0vC31OXt-g\" frameborder=\"0\" allow=\"accelerometer; autoplay; encrypted-media; gyroscope; picture-in-picture\" allowfullscreen></iframe>"
      ],
      "text/plain": [
       "<IPython.core.display.HTML object>"
      ]
     },
     "execution_count": 3,
     "metadata": {},
     "output_type": "execute_result"
    }
   ],
   "source": [
    "HTML('<iframe width=\"650\" height=\"400\" src=\"https://www.youtube.com/embed/R0vC31OXt-g\" frameborder=\"0\" allow=\"accelerometer; autoplay; encrypted-media; gyroscope; picture-in-picture\" allowfullscreen></iframe>')"
   ]
  },
  {
   "cell_type": "markdown",
   "metadata": {},
   "source": [
    "# Google Cloud Datalab"
   ]
  },
  {
   "cell_type": "code",
   "execution_count": 4,
   "metadata": {},
   "outputs": [
    {
     "data": {
      "text/html": [
       "<iframe width=\"650\" height=\"400\" src=\"https://www.youtube.com/embed/Eu57QKNHaiY\" frameborder=\"0\" allow=\"accelerometer; autoplay; encrypted-media; gyroscope; picture-in-picture\" allowfullscreen></iframe>"
      ],
      "text/plain": [
       "<IPython.core.display.HTML object>"
      ]
     },
     "execution_count": 4,
     "metadata": {},
     "output_type": "execute_result"
    }
   ],
   "source": [
    "HTML('<iframe width=\"650\" height=\"400\" src=\"https://www.youtube.com/embed/Eu57QKNHaiY\" frameborder=\"0\" allow=\"accelerometer; autoplay; encrypted-media; gyroscope; picture-in-picture\" allowfullscreen></iframe>')"
   ]
  },
  {
   "cell_type": "markdown",
   "metadata": {},
   "source": [
    "### Skills\n",
    "\n",
    "As you can see above there are some skills you need to have in order to function in this career properly:-\n",
    "\n",
    ">1 - __Programming:__ the kind of programming needed is not as intense as that of developers however one has to be able to learn the syntax of their chosen languages and the logic that it entails.\n",
    "The Languages needed include:\n",
    "- Python, R, SQL, HTML\n",
    "\n",
    ">2 - __Statistics:__ you definately don't need to become a statician, however you need to know your way around statistical methods. Simple descriptive stats, inferential stats, hypothesis testing and others.\n",
    "\n",
    ">3 - __Linear Algebra:__ This is a necesarry skill if you are going to understand what you are doing. Most of the models are built in order to maximize or minimize certain linear and non linear functions. The math becomes intense the higher you get. This includes logic and formal methods.\n",
    "\n",
    ">4 - __Data Visualization:__ Being able to tell a compelling story with data is crucial to getting your point across and keeping your audience engaged. If your findings can’t be easily and quickly identified, then you’re going to have a difficult time getting through to others. \n",
    "\n",
    ">5 - __Critical Thinking:__ being able to look at your current task from various angles and geting valuable insight in what the information is telling us."
   ]
  },
  {
   "cell_type": "markdown",
   "metadata": {},
   "source": [
    "## Career\n",
    "Let us first look at the kind of careers that are available with all this knowledge.\n",
    "<img src='career.png'/>"
   ]
  },
  {
   "cell_type": "markdown",
   "metadata": {},
   "source": [
    "<div class=\"alert alert-block alert-success\"/>"
   ]
  },
  {
   "cell_type": "markdown",
   "metadata": {},
   "source": [
    "## Comparison Table\n",
    "\n",
    "<table class=\"table table-striped table-dark\">\n",
    "    \n",
    "  <thead>\n",
    "    <tr>\n",
    "      <th scope=\"col\">Data Science</th>\n",
    "      <th scope=\"col\">Data Analytics</th>\n",
    "    </tr>\n",
    "  </thead>\n",
    "    \n",
    "  <tbody>\n",
    "    <tr>\n",
    "      <td scope=\"row\">Data Science is the whole multidisciplinary field that includes domain expertise, machine learning, statistical research, data analytics, mathematics, and computer science.</td>\n",
    "      <td>It is a significant part of data science where data is organized, processed and analyzed to solve business problems.</td>\n",
    "    </tr>\n",
    "    <tr>\n",
    "      <td scope=\"row\">The scope of data science is said to be macro.</td>\n",
    "      <td>The scope of data analytics is micro.</td>\n",
    "    </tr>\n",
    "    <tr>\n",
    "      <td scope=\"row\">Requires knowledge of data modeling, advanced statistics, machine learning and basic knowledge of programming languages like SQL, Python/R, SAS.</td>\n",
    "      <td>Requires solid knowledge of database like SQL, programming skills like Python/R, Hadoop/Spark. Also requires knowledge of BI tools and medium level understanding of statistics.</td>\n",
    "    </tr>\n",
    "    <tr>\n",
    "      <td scope=\"row\">The input is raw or unstructured data which is then cleaned and organized to be sent for analytics.</td>\n",
    "      <td>The input is mostly structured data on which design principles and data visualization techniques are applied.</td>\n",
    "    </tr>\n",
    "    <tr>\n",
    "      <td scope=\"row\">Involves search engine exploration, artificial intelligence, and machine learning.</td>\n",
    "      <td>The scope is limited to analytical techniques mostly using statistical tools and techniques.</td>\n",
    "    </tr>\n",
    "    <tr>\n",
    "      <td scope=\"row\">The aim of data science is to find and define new business problems that lead to innovation.</td>\n",
    "      <td>The problem is already known and with analytics, the analyst tries to find the best solutions to the problem.</td>\n",
    "    </tr>\n",
    "    <tr>\n",
    "      <td scope=\"row\">Used for recommender systems, internet research, image recognition, speech recognition, and digital marketing.</td>\n",
    "      <td>Used in domain areas like healthcare, travel and tourism, gaming, finance and so on.</td>\n",
    "    </tr>\n",
    "    <tr>\n",
    "      <td scope=\"row\">Involves finding solutions to new and unknown problems by discovering them and converting data into business stories and use cases.</td>\n",
    "      <td>The data only goes through thorough analysis and interpretation, however, there is no roadmap created.</td>\n",
    "    </tr>\n",
    "  </tbody>\n",
    "</table>"
   ]
  },
  {
   "cell_type": "code",
   "execution_count": null,
   "metadata": {},
   "outputs": [],
   "source": []
  },
  {
   "cell_type": "markdown",
   "metadata": {},
   "source": [
    "<div class=\"alert alert-block alert-success\"/>"
   ]
  },
  {
   "cell_type": "code",
   "execution_count": null,
   "metadata": {},
   "outputs": [],
   "source": []
  },
  {
   "cell_type": "markdown",
   "metadata": {},
   "source": [
    "# Introduction to Keras"
   ]
  },
  {
   "cell_type": "markdown",
   "metadata": {},
   "source": [
    "> __Keras is a high-level neural networks API, capable of running on top of Tensorflow, Theano, and CNTK. It enables fast experimentation through a high level, user-friendly, modular and extensible API. Keras can also be run on both CPU and GPU.__\n",
    "\n",
    "### What is an API? (Application Programming Interface)\n",
    "API is the acronym for Application Programming Interface, which is a software intermediary that allows two applications to talk to each other. Each time you use an app like Facebook, send an instant message, or check the weather on your phone, you’re using an API.\n",
    "\n",
    "\n",
    "<img src='keras1.png'/>\n"
   ]
  },
  {
   "cell_type": "code",
   "execution_count": 5,
   "metadata": {},
   "outputs": [
    {
     "data": {
      "text/html": [
       "<iframe width=\"600\" height=\"400\" src=\"https://www.youtube.com/embed/s7wmiS2mSXY\" frameborder=\"0\" allow=\"accelerometer; autoplay; encrypted-media; gyroscope; picture-in-picture\" allowfullscreen></iframe>"
      ],
      "text/plain": [
       "<IPython.core.display.HTML object>"
      ]
     },
     "execution_count": 5,
     "metadata": {},
     "output_type": "execute_result"
    }
   ],
   "source": [
    "HTML('<iframe width=\"600\" height=\"400\" src=\"https://www.youtube.com/embed/s7wmiS2mSXY\" frameborder=\"0\" allow=\"accelerometer; autoplay; encrypted-media; gyroscope; picture-in-picture\" allowfullscreen></iframe>')"
   ]
  },
  {
   "cell_type": "markdown",
   "metadata": {},
   "source": [
    "Keras was developed and is maintained by Francois Chollet and is part of the Tensorflow core, which makes it Tensorflows preferred high-level API.\n",
    "\n",
    "Here is a great [article](https://towardsdatascience.com/introduction-to-deep-learning-with-keras-17c09e4f0eb2) that can help more on this.\n",
    "\n",
    "[Github repo](https://github.com/TannerGilbert/Tutorials/blob/master/Introduction%20to%20Deep%20Learning%20with%C2%A0Keras/Introduction%20to%20Deep%20Learning%20with%20Keras.ipynb)\n",
    "\n",
    "\n",
    "### Who makes Keras?\n",
    "\n",
    "<img src='keras2.png'/>\n",
    "\n",
    "### Who is using Keras?\n",
    "<img src='keras3.png'/>\n",
    "\n",
    "\n",
    "## Why use Keras?\n",
    "\n",
    "- Keras is a high-level API for neural networks. __It is written in Python and its biggest advantage is its ability to run on top of state-of-art deep learning libraries/frameworks such as TensorFlow, CNTK or Theano.__ If you are looking for fast prototyping with deep learning, then Keras is the optimal choice.\n",
    "\n",
    "- Simplifies the process of building neural networks without any barriers on CPUs and GPUs.\n",
    "\n",
    "- Keras supports convolutional and recurrent networks — combinations of both can also be used with it.\n",
    "\n",
    "## Keras: The design philosophy\n",
    "\n",
    "As stated earlier, the ability to move into action with instant prototyping is an important characteristic of Keras. Apart from this, Keras is designed with the following guiding principles or design philosophy:\n",
    "\n",
    "- It is an API designed with user friendly implementation as the core principle. The API is designed to be simple and consistent, and it minimises the effort programmers are required to put in to convert theory into action.\n",
    "- Keras’ modular design is another important feature. The primary idea of Keras is layers, which can be connected seamlessly.\n",
    "- Keras is extensible. If you are a researcher trying to bring in your own novel functionality, Keras can accommodate such extensions.\n",
    "- Keras is all Python, so there is no need for tricky declarative configuration files."
   ]
  },
  {
   "cell_type": "markdown",
   "metadata": {},
   "source": []
  },
  {
   "cell_type": "markdown",
   "metadata": {},
   "source": [
    "<img src='keras4.png'/>"
   ]
  },
  {
   "cell_type": "markdown",
   "metadata": {},
   "source": []
  },
  {
   "cell_type": "markdown",
   "metadata": {},
   "source": [
    "<img src='keras5.png'/>"
   ]
  },
  {
   "cell_type": "markdown",
   "metadata": {},
   "source": []
  },
  {
   "cell_type": "markdown",
   "metadata": {},
   "source": [
    "<img src='keras6.png'/>"
   ]
  },
  {
   "cell_type": "markdown",
   "metadata": {},
   "source": []
  },
  {
   "cell_type": "markdown",
   "metadata": {},
   "source": [
    "<img src='keras7.png'/>"
   ]
  },
  {
   "cell_type": "code",
   "execution_count": null,
   "metadata": {},
   "outputs": [],
   "source": []
  },
  {
   "cell_type": "markdown",
   "metadata": {},
   "source": [
    "<div class=\"alert alert-block alert-success\"/>"
   ]
  },
  {
   "cell_type": "markdown",
   "metadata": {},
   "source": [
    "# Introduction to Tensorflow\n",
    "\n",
    "TensorFlow is an open-source software library. TensorFlow was originally developed by researchers and engineers working on the `Google Brain Team within Google’s Machine Intelligence research organization for the purposes of conducting machine learning and deep neural networks` research, but the system is general enough to be applicable in a wide variety of other domains as well!\n",
    "\n",
    "> __TensorFlow is basically a software library for numerical computation using data flow graphs where:__\n",
    "\n",
    "- __nodes__ in the graph represent mathematical operations.\n",
    "- __edges__ in the graph represent the multidimensional data arrays (called tensors) communicated between them. (Please note that tensor is the central unit of data in TensorFlow).\n",
    "\n",
    "### What is a tensor?\n",
    "\n",
    "Mathematically a Tensor is a N-dimensional vector, means a Tensor can be used to represent N-dimensional datasets. \n",
    "<img src='tensor1.png'/>\n",
    "\n",
    "\n",
    "## Computational graphs (flow):\n",
    "Now we understood what Tensor really means, and it’s time to understand Flow. This flow refers to a computational graph or simply a graph, the graph can never be cyclic, each node in the graph represents an operation like addition, subtraction etc. And each operation results in the formation of new Tensor.\n",
    "\n",
    "In simple terms we have many mathematical functions that we but in some sort of flow called a graph.\n",
    "\n",
    "These graphs contain:\n",
    "\n",
    "- __`Constants`__ are fixed value tensors - not trainable.\n",
    "- __`Variables`__ are tensors initialized in a session - trainable.\n",
    "- __`Placeholders`__ are tensors of values that are unknown during the graph construction, but passed as input during a session\n",
    "- __`Ops`__ are functions on tensors\n",
    "\n",
    "<img src='tensor2.png'/>\n",
    "\n",
    "The figure above shows a simple computational graph. The expression for above graph :\n",
    "__e = (a+b)x(b+1)__\n",
    "\n",
    "## Session:\n",
    "\n",
    "In order to do executions with tensorflow after understanding the basic building blocks above, one needs to know about sessions. \n",
    "\n",
    "To run the code that contains the graph you need to create a session.\n",
    "\n",
    "<img src='tensor3.png'/>"
   ]
  },
  {
   "cell_type": "markdown",
   "metadata": {},
   "source": []
  },
  {
   "cell_type": "markdown",
   "metadata": {},
   "source": [
    "### Sample code:\n",
    "\n",
    "```\n",
    "# importing tensorflow \n",
    "import tensorflow as tf \n",
    "\n",
    "# creating nodes in computation graph \n",
    "node1 = tf.constant(3, dtype=tf.int32) \n",
    "node2 = tf.constant(5, dtype=tf.int32) \n",
    "node3 = tf.add(node1, node2) \n",
    "\n",
    "# create tensorflow session object \n",
    "sess = tf.Session() \n",
    "\n",
    "# evaluating node3 and printing the result \n",
    "print(\"Sum of node1 and node2 is:\",sess.run(node3)) \n",
    "\n",
    "# closing the session \n",
    "sess.close() \n",
    "\n",
    "\n",
    "```"
   ]
  },
  {
   "cell_type": "code",
   "execution_count": null,
   "metadata": {},
   "outputs": [],
   "source": []
  },
  {
   "cell_type": "code",
   "execution_count": 6,
   "metadata": {},
   "outputs": [
    {
     "data": {
      "text/html": [
       "<iframe width=\"600\" height=\"450\" src=\"https://www.youtube.com/embed/MotG3XI2qSs\" frameborder=\"0\" allow=\"accelerometer; autoplay; encrypted-media; gyroscope; picture-in-picture\" allowfullscreen></iframe>"
      ],
      "text/plain": [
       "<IPython.core.display.HTML object>"
      ]
     },
     "execution_count": 6,
     "metadata": {},
     "output_type": "execute_result"
    }
   ],
   "source": [
    "HTML('<iframe width=\"600\" height=\"450\" src=\"https://www.youtube.com/embed/MotG3XI2qSs\" frameborder=\"0\" allow=\"accelerometer; autoplay; encrypted-media; gyroscope; picture-in-picture\" allowfullscreen></iframe>')"
   ]
  },
  {
   "cell_type": "code",
   "execution_count": null,
   "metadata": {},
   "outputs": [],
   "source": []
  },
  {
   "cell_type": "markdown",
   "metadata": {},
   "source": [
    "## Other Resources:\n",
    "\n",
    "- Google Classes [link](https://www.google.com/url?q=https://techdevguide.withgoogle.com/&sa=D&ust=1574955397419000)\n",
    "- Coding practice on these links [link one](https://www.google.com/url?q=https://interviewing.io/&sa=D&ust=1574955397420000), --> [link two](https://www.google.com/url?q=https://leetcode.com/&sa=D&ust=1574955397421000), --> [link three](https://www.google.com/url?q=https://www.topcoder.com/&sa=D&ust=1574955397421000)\n",
    "- Coding challenges [link](https://www.google.com/url?q=https://www.hackerrank.com/auth/login/30-days-of-code&sa=D&ust=1574955397422000)\n",
    "- Great courses Free [link](https://cognitiveclass.ai/courses/deep-learning-tensorflow)\n",
    "- Great Article [12 things i wish i'd known before starting as a data-scientist](https://medium.com/deliberate-data-science/12-things-i-wish-id-known-before-starting-as-a-data-scientist-45989be6300e)\n",
    "- Great GIT tutorial [Here](https://www.atlassian.com/git/tutorials)\n"
   ]
  },
  {
   "cell_type": "code",
   "execution_count": null,
   "metadata": {},
   "outputs": [],
   "source": []
  }
 ],
 "metadata": {
  "kernelspec": {
   "display_name": "Python 3",
   "language": "python",
   "name": "python3"
  },
  "language_info": {
   "codemirror_mode": {
    "name": "ipython",
    "version": 3
   },
   "file_extension": ".py",
   "mimetype": "text/x-python",
   "name": "python",
   "nbconvert_exporter": "python",
   "pygments_lexer": "ipython3",
   "version": "3.7.4"
  },
  "varInspector": {
   "cols": {
    "lenName": 16,
    "lenType": 16,
    "lenVar": 40
   },
   "kernels_config": {
    "python": {
     "delete_cmd_postfix": "",
     "delete_cmd_prefix": "del ",
     "library": "var_list.py",
     "varRefreshCmd": "print(var_dic_list())"
    },
    "r": {
     "delete_cmd_postfix": ") ",
     "delete_cmd_prefix": "rm(",
     "library": "var_list.r",
     "varRefreshCmd": "cat(var_dic_list()) "
    }
   },
   "types_to_exclude": [
    "module",
    "function",
    "builtin_function_or_method",
    "instance",
    "_Feature"
   ],
   "window_display": false
  }
 },
 "nbformat": 4,
 "nbformat_minor": 2
}
